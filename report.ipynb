{
 "cells": [
  {
   "cell_type": "markdown",
   "id": "b37f8577-be59-4a46-b1f6-d37a60c18cbb",
   "metadata": {},
   "source": [
    "# Neural Transfer Report"
   ]
  },
  {
   "cell_type": "markdown",
   "id": "9836309e-a506-47a4-af41-b6b95e8e131c",
   "metadata": {},
   "source": [
    "## 1. Objectives\n",
    "\n",
    "This work aims to use the so-called Neural Transfer technique, which is based on deep neural nets, to answer the question: what if renowned paintings were made by Brazilian painters?\n",
    "To do this we will be using the solution developed by Gatys et al. which was implemented using Pytorch by Alexis Jacq.\n",
    "\n",
    "Foreign artwork includes paintings such as The Starry Night, Guernica, The Birth of Venus, Young Woman at a Window, Lady with an Ermine, The Harvesters, Self-Portrait in Hell, Seated Nude and A Sunday on La Grande Jatte.\n",
    "\n",
    "The chosen Brazilian artwork were Abaporu, The Moon, The Lighthouse, Cat, Samba and The Russian Student.\n",
    "\n",
    "We will essentially apply the style of Brazilian paintings to foreign paintings.\n",
    "\n",
    "The original paper is available [here](https://arxiv.org/abs/1508.06576) and the code used [here](https://pytorch.org/tutorials/advanced/neural_style_tutorial.html)."
   ]
  },
  {
   "cell_type": "markdown",
   "id": "95ceddd0-34b1-4b18-9527-31fc173aff7f",
   "metadata": {},
   "source": [
    "## 2. Methodology\n",
    "\n",
    "To achieve what we aim, our first step was to gather all the paintings cited above, which are available in the `paintings` folder. We had to crop/format every image we used, so the content (original) image and the style image had exactly the same size. The last step was running the deep neural net, available on the notebook `neural_transfer.ipynb` above, feeding it with the foreign artwork and the Brazilian one we desired to transfer the style from.\n",
    "\n",
    "The Neural Transfer uses a pre-trained VGG-19 deep neural network and fine-tunes it according to both the content image and the style image, which means that while running it, it computed two losses using mean-squared error: content-loss and image-loss. For the gradient part, L-BFGS is used.\n",
    "\n",
    "Most of the artworks were generated using 900 epochs and the mean loss was every 50 epochs.\n",
    "   \n",
    "This process involved a lot of persistence and experimentation, as some combinations of artworks weren't giving good results, disfiguring the original artwork, which we did not want to happen.  "
   ]
  },
  {
   "cell_type": "markdown",
   "id": "34607ebb-9a88-4cef-b04b-d4f7b3cffc8b",
   "metadata": {},
   "source": [
    "## 3. Results\n",
    "\n",
    "We ended up with ten artworks, generated from combinations of original artwork and style paintings. We considered a good result a combination where the original artwork was not disfigured and it is still possible to recognize the original painting. \n",
    "\n",
    "The losses presented in the loss column represent the mean loss of the last 50 epochs.\n",
    "\n",
    "With these considerations in mind, we present the best results below:\n",
    "\n",
    "\n",
    "\n",
    "\n",
    "| Original Artwork | Style Artwork              |  Result | Losses |\n",
    "| :-      |:-                                          |  :- | :-\n",
    "|  <img src=\"https://raw.githubusercontent.com/aianshay/br-style-neural-transfer/main/paintings/Edvard.jpg?token=GHSAT0AAAAAABQPATNWCVD7WYMWXK2CJB4IYRM6EMQ\" alt=\"drawing\" width=\"264px\" height=\"264px\"/>  |        <img src=\"https://raw.githubusercontent.com/aianshay/br-style-neural-transfer/main/paintings/A%20estudante%20russa.jpg?token=GHSAT0AAAAAABQPATNXS2WYR3CK7ZWSPC3UYRM4XTA\" alt=\"drawing\" width=\"264px\" height=\"264px\"/>        |    <img src=\"https://raw.githubusercontent.com/aianshay/br-style-neural-transfer/main/results/estudante_edvard.png?token=GHSAT0AAAAAABQPATNXTUHIWG6DMLAD7TQUYRM44FA\" alt=\"drawing\" width=\"264px\" height=\"264px\"/>  | Style : 0.276753 </br> Content : 4.124443 |\n",
    "|  <img src=\"https://raw.githubusercontent.com/aianshay/br-style-neural-transfer/main/paintings/Noite%20Estrelada.jpg?token=GHSAT0AAAAAABQPATNXYLERTVPT3CZQHF2AYRM6FSQ\" alt=\"drawing\" width=\"264px\" height=\"264px\"/>    |  <img src=\"https://raw.githubusercontent.com/aianshay/br-style-neural-transfer/main/paintings/O%20Farol.jpg?token=GHSAT0AAAAAABQPATNW22XLMBCSMGZAC3IGYRM6FRA\" alt=\"drawing\" width=\"264px\" height=\"264px\"/>       | <img src=\"https://raw.githubusercontent.com/aianshay/br-style-neural-transfer/main/results/farol_noite.png?token=GHSAT0AAAAAABQPATNX5IQWL3FTVPEMVVYUYRM6HDA\" alt=\"drawing\" width=\"264px\" height=\"264px\"/> | Style : 0.689946 <p> Content : 5.690724 |\n",
    "|   <img src=\"https://raw.githubusercontent.com/aianshay/br-style-neural-transfer/main/paintings/Mo%C3%A7a%20da%20Janela.jpg?token=GHSAT0AAAAAABQPATNX5GUCDU7UHJWM5UTUYRM6QWA\" alt=\"drawing\" width=\"264px\" height=\"264px\"/>|  <img src=\"https://raw.githubusercontent.com/aianshay/br-style-neural-transfer/main/paintings/A%20Lua.jpg?token=GHSAT0AAAAAABQPATNWVFTZ6PANCIQXGTJCYRM6PZQ\" alt=\"drawing\" width=\"264px\" height=\"264px\"/>  | <img src=\"https://raw.githubusercontent.com/aianshay/br-style-neural-transfer/main/results/lua_moca.png?token=GHSAT0AAAAAABQPATNXQLZWLVFXYZ5VJFD4YRM6MJQ\" alt=\"drawing\" width=\"264px\" height=\"264px\"/>  |  Style : 1.998427 </br> Content : 8.729327  |\n",
    "|  <img src=\"https://raw.githubusercontent.com/aianshay/br-style-neural-transfer/main/paintings/guernica.png?token=GHSAT0AAAAAABQPATNX2HZUEQFYEN3VVCTAYRM6UYA\" alt=\"drawing\" width=\"264px\" height=\"264px\"/> |  <img src=\"https://raw.githubusercontent.com/aianshay/br-style-neural-transfer/main/paintings/crianca.jpg?token=GHSAT0AAAAAABQPATNWT3RTKC7IALOGTXV2YRM6VTA\" alt=\"drawing\" width=\"264px\" height=\"264px\"/>  |         <img src=\"https://raw.githubusercontent.com/aianshay/br-style-neural-transfer/main/results/crianca_guernica.png?token=GHSAT0AAAAAABQPATNWTK3JCB4MTIT45U3YYRM6TWQ\" alt=\"drawing\" width=\"264px\" height=\"264px\"/>        |  Style : 0.561365 </br> Content : 5.421825    |   \n",
    "|   <img src=\"https://raw.githubusercontent.com/aianshay/br-style-neural-transfer/main/paintings/haversters.jpg?token=GHSAT0AAAAAABQPATNWW3W6FIBIAMPBXC5CYRM6W5A\" alt=\"drawing\" width=\"264px\" height=\"264px\"/>  |  <img src=\"https://raw.githubusercontent.com/aianshay/br-style-neural-transfer/main/paintings/O%20Farol.jpg?token=GHSAT0AAAAAABQPATNW22XLMBCSMGZAC3IGYRM6FRA\" alt=\"drawing\" width=\"264px\" height=\"264px\"/>  |   <img src=\"https://raw.githubusercontent.com/aianshay/br-style-neural-transfer/main/results/farol_haversters.png?token=GHSAT0AAAAAABQPATNXOUU6VPULK5U5F77YYRM6YAQ\" alt=\"drawing\" width=\"264px\" height=\"264px\"/>  |  Style : 0.502838 </br> Content : 5.466997 | \n",
    "|<img src=\"https://raw.githubusercontent.com/aianshay/br-style-neural-transfer/main/paintings/Lady.jpg?token=GHSAT0AAAAAABQPATNWUPQCBYVT575HWIHWYRM7LAA\" alt=\"drawing\" width=\"264px\" height=\"264px\"/>|<img src=\"https://raw.githubusercontent.com/aianshay/br-style-neural-transfer/main/paintings/A%20estudante%20russa.jpg?token=GHSAT0AAAAAABQPATNXS2WYR3CK7ZWSPC3UYRM4XTA\" alt=\"drawing\" width=\"264px\" height=\"264px\"/> |<img src=\"https://raw.githubusercontent.com/aianshay/br-style-neural-transfer/main/results/estudante_lady.png?token=GHSAT0AAAAAABQPATNXBSUPO65IGNMOA3OGYRM7K3Q\" alt=\"drawing\" width=\"264px\" height=\"264px\"/>|   Style : 3.210734 </br> Content : 13.415939   |\n",
    "| <img src=\"https://raw.githubusercontent.com/aianshay/br-style-neural-transfer/main/paintings/picasso.jpg?token=GHSAT0AAAAAABQPATNXSKEDGKWWAXNIFTEWYRM62IQ\" alt=\"drawing\" width=\"264px\" height=\"264px\"/>  |  <img src=\"https://raw.githubusercontent.com/aianshay/br-style-neural-transfer/main/paintings/gato.png?token=GHSAT0AAAAAABQPATNW26FPIZAQKZBQRVDCYRM62BQ\" alt=\"drawing\" width=\"264px\" height=\"264px\"/> |  <img src=\"https://raw.githubusercontent.com/aianshay/br-style-neural-transfer/main/results/gato_picasso.png?token=GHSAT0AAAAAABQPATNWQTK4XOXYIVMS755EYRM6Z2Q\" alt=\"drawing\" width=\"264px\" height=\"264px\"/> |  Style : 2.395821 </br> Content : 10.102953  |\n",
    "|<img src=\"https://raw.githubusercontent.com/aianshay/br-style-neural-transfer/main/paintings/sunday.jpg?token=GHSAT0AAAAAABQPATNWZUAFBHREA2PWCBAWYRM7BHA\" alt=\"drawing\" width=\"264px\" height=\"264px\"/>|<img src=\"https://raw.githubusercontent.com/aianshay/br-style-neural-transfer/main/paintings/carnavais.jpg?token=GHSAT0AAAAAABQPATNX65UTCAT3DTG7VWFWYRM7BCA\" alt=\"drawing\" width=\"264px\" height=\"264px\"/>|<img src=\"https://raw.githubusercontent.com/aianshay/br-style-neural-transfer/main/results/carnaval_sunday.png?token=GHSAT0AAAAAABQPATNXCKSJUTQMKRD646ZGYRM7A2A\" alt=\"drawing\" width=\"264px\" height=\"264px\"/>| Style : 2.482011 </br> Content : 5.194051|\n",
    "|<img src=\"https://raw.githubusercontent.com/aianshay/br-style-neural-transfer/main/paintings/venus.jpg?token=GHSAT0AAAAAABQPATNXWKWKNJQV5NSA2IZ2YRM7DBA\" alt=\"drawing\" width=\"264px\" height=\"264px\"/>|<img src=\"https://raw.githubusercontent.com/aianshay/br-style-neural-transfer/main/paintings/abaporu.jpg?token=GHSAT0AAAAAABQPATNX7QMQEOQTD4EGEKT6YRM7C7Q\" alt=\"drawing\" width=\"264px\" height=\"264px\"/>|<img src=\"https://raw.githubusercontent.com/aianshay/br-style-neural-transfer/main/results/abaporu_venus.png?token=GHSAT0AAAAAABQPATNXFCHDCA3UQCGYUKWWYRM7DYA\" alt=\"drawing\" width=\"264px\" height=\"264px\"/>|Style : 1.012130 </br> Content : 7.451166|\n",
    "| <img src=\"https://raw.githubusercontent.com/aianshay/br-style-neural-transfer/main/paintings/Charlotte.jpg?token=GHSAT0AAAAAABQPATNW6PKTIWZSGAWL6HF6YRM4UCA\" alt=\"drawing\" width=\"264px\" height=\"264px\"/>|   <img src=\"https://raw.githubusercontent.com/aianshay/br-style-neural-transfer/main/paintings/A%20estudante%20russa.jpg?token=GHSAT0AAAAAABQPATNXS2WYR3CK7ZWSPC3UYRM4XTA\" alt=\"drawing\" width=\"264px\" height=\"264px\"/>   | ![image](https://raw.githubusercontent.com/aianshay/br-style-neural-transfer/main/results/estudante_charlotte.png?token=GHSAT0AAAAAABQPATNWVMZN4BS434PMC7AIYRM5KGQ)   |  Style : 0.429357 </br> Content: 5.352768    |\n"
   ]
  },
  {
   "cell_type": "markdown",
   "id": "152560f5-32a3-4604-9af4-6624e513e10b",
   "metadata": {},
   "source": [
    "## 4. Final Considerations\n",
    "\n",
    "\n",
    "While experimenting the multiple possible combinations of artworks, we started to get some intuition of how transfer learn works and observed it is not well suited for images with people or faces as it can disfigure those faces, as seen in the last result above, because the network does not know what is a face. \n",
    "\n",
    "What the network essentially does is transfer brushes using as a guide the similar colors in both artworks, while preserving lines and forms of the original painting. With both these observations, we started to notice that Neural Transfer works better on artworks representing landscape or objects. \n",
    "\n",
    "Other than that, we tried to use Abaporu in many artworks, but we then realized that solid/strong colors tend to modify the original artwork a lot, as seen in the combination of The Birth of Venus and Abaporu.\n",
    "\n",
    "We hope this project inspires other people to try different combinations using Brazilian artworks! Feel free to use any code in this repository. Also, we would like to thank Alexis Jacq who implemented the Neural Transfer paper in PyTorch.\n",
    "\n",
    "In future work, we could investigate the opposite, applying foreign artwork style in Brazilian artwork and make more combinations of artworks. Another approach would be trying different architectures other than VGG-16 and see if it improves the results."
   ]
  },
  {
   "cell_type": "code",
   "execution_count": null,
   "id": "dbfa5bc8-4a1c-40dd-89eb-3fc876fee520",
   "metadata": {},
   "outputs": [],
   "source": []
  }
 ],
 "metadata": {
  "kernelspec": {
   "display_name": "Python 3 (ipykernel)",
   "language": "python",
   "name": "python3"
  },
  "language_info": {
   "codemirror_mode": {
    "name": "ipython",
    "version": 3
   },
   "file_extension": ".py",
   "mimetype": "text/x-python",
   "name": "python",
   "nbconvert_exporter": "python",
   "pygments_lexer": "ipython3",
   "version": "3.8.9"
  }
 },
 "nbformat": 4,
 "nbformat_minor": 5
}
